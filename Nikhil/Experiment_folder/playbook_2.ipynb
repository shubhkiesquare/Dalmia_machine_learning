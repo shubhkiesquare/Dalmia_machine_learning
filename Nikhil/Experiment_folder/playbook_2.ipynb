{
 "cells": [
  {
   "cell_type": "code",
   "execution_count": 1,
   "id": "8c4d1173-6953-415d-b1b2-3f3ae7895538",
   "metadata": {},
   "outputs": [],
   "source": [
    "import numpy as np \n",
    "import pandas as pd\n",
    "import warnings\n",
    "warnings.filterwarnings('ignore')"
   ]
  },
  {
   "cell_type": "code",
   "execution_count": 4,
   "id": "5b46d8c4-3194-4de4-a20e-bfe951c473e5",
   "metadata": {},
   "outputs": [
    {
     "name": "stdout",
     "output_type": "stream",
     "text": [
      "/Users/nikhilsingh/Downloads/Dalmia_machine_learning/Nikhil\n"
     ]
    }
   ],
   "source": [
    "#cd '/Users/nikhilsingh/Downloads/Dalmia_machine_learning/Nikhil' "
   ]
  },
  {
   "cell_type": "code",
   "execution_count": 5,
   "id": "92e7c33e-adc5-40cc-b990-e8e89058f614",
   "metadata": {},
   "outputs": [],
   "source": [
    "from utility.db_data import connection_db\n",
    "from utility.datetime_util import create_date_columns"
   ]
  },
  {
   "cell_type": "markdown",
   "id": "0958f6c8-d8bf-41a7-8964-0715dae3c11b",
   "metadata": {},
   "source": [
    "#### Dealer's muscle"
   ]
  },
  {
   "cell_type": "code",
   "execution_count": 6,
   "id": "bb58c233-1c27-4532-9368-329175e18298",
   "metadata": {},
   "outputs": [],
   "source": [
    "host=\"database-dalmia.cms6cet2hwec.ap-south-1.rds.amazonaws.com\"\n",
    "database=\"dalmia_digital\"\n",
    "user=\"postgres\"\n",
    "password=\"dalmia123\"\n",
    "sql_query =  \"SELECT * FROM dalmia_sales.sales_data where billing_date >='2021-04-01' and sold_to_party_code between 7000000 and 7099999\"\n",
    "#reading the data\n",
    "df = connection_db(host= host , database=database, user=user , password=password, sql_query=sql_query)\n",
    "# df = pd.read_excel('data/sales_data_pivot - UPDATED WORKING.xlsx')"
   ]
  },
  {
   "cell_type": "code",
   "execution_count": 7,
   "id": "7d184ef0-1e43-4e82-adb4-b7d1bd3a1b1a",
   "metadata": {},
   "outputs": [
    {
     "data": {
      "text/html": [
       "<div>\n",
       "<style scoped>\n",
       "    .dataframe tbody tr th:only-of-type {\n",
       "        vertical-align: middle;\n",
       "    }\n",
       "\n",
       "    .dataframe tbody tr th {\n",
       "        vertical-align: top;\n",
       "    }\n",
       "\n",
       "    .dataframe thead th {\n",
       "        text-align: right;\n",
       "    }\n",
       "</style>\n",
       "<table border=\"1\" class=\"dataframe\">\n",
       "  <thead>\n",
       "    <tr style=\"text-align: right;\">\n",
       "      <th></th>\n",
       "      <th>month</th>\n",
       "      <th>billing_date</th>\n",
       "      <th>sales_region</th>\n",
       "      <th>sales_zone</th>\n",
       "      <th>sales_type</th>\n",
       "      <th>manufacturing_plant</th>\n",
       "      <th>manufacturing_plant_name</th>\n",
       "      <th>plant</th>\n",
       "      <th>plant_name</th>\n",
       "      <th>sold_to_party_code</th>\n",
       "      <th>...</th>\n",
       "      <th>direct_depot</th>\n",
       "      <th>incoterms_inco</th>\n",
       "      <th>mode_of_transport</th>\n",
       "      <th>t_zone</th>\n",
       "      <th>tzone_desc</th>\n",
       "      <th>brand</th>\n",
       "      <th>product</th>\n",
       "      <th>bill_quantity</th>\n",
       "      <th>gross_bill_price</th>\n",
       "      <th>zbill_invoice_bill</th>\n",
       "    </tr>\n",
       "  </thead>\n",
       "  <tbody>\n",
       "    <tr>\n",
       "      <th>0</th>\n",
       "      <td>Jul'23</td>\n",
       "      <td>2023-07-26</td>\n",
       "      <td>North East</td>\n",
       "      <td>NE1</td>\n",
       "      <td>Trade</td>\n",
       "      <td>3300</td>\n",
       "      <td>DCNEL FACTORY – LANKA</td>\n",
       "      <td>3300</td>\n",
       "      <td>DCNEL FACTORY – LANKA</td>\n",
       "      <td>7007301</td>\n",
       "      <td>...</td>\n",
       "      <td>Direct</td>\n",
       "      <td>FPD</td>\n",
       "      <td>Road</td>\n",
       "      <td>7833840320</td>\n",
       "      <td>ABHAYAPURI</td>\n",
       "      <td>DSP</td>\n",
       "      <td>DSP</td>\n",
       "      <td>25.0</td>\n",
       "      <td>253000</td>\n",
       "      <td>253000.0</td>\n",
       "    </tr>\n",
       "    <tr>\n",
       "      <th>1</th>\n",
       "      <td>Jul'23</td>\n",
       "      <td>2023-07-31</td>\n",
       "      <td>North East</td>\n",
       "      <td>NE1</td>\n",
       "      <td>Trade</td>\n",
       "      <td>3300</td>\n",
       "      <td>DCNEL FACTORY – LANKA</td>\n",
       "      <td>3300</td>\n",
       "      <td>DCNEL FACTORY – LANKA</td>\n",
       "      <td>7007301</td>\n",
       "      <td>...</td>\n",
       "      <td>Direct</td>\n",
       "      <td>FPD</td>\n",
       "      <td>Road</td>\n",
       "      <td>7833840320</td>\n",
       "      <td>ABHAYAPURI</td>\n",
       "      <td>DSP</td>\n",
       "      <td>DSP</td>\n",
       "      <td>15.0</td>\n",
       "      <td>151800</td>\n",
       "      <td>151800.0</td>\n",
       "    </tr>\n",
       "    <tr>\n",
       "      <th>2</th>\n",
       "      <td>Jul'23</td>\n",
       "      <td>2023-07-31</td>\n",
       "      <td>North East</td>\n",
       "      <td>NE1</td>\n",
       "      <td>Trade</td>\n",
       "      <td>3300</td>\n",
       "      <td>DCNEL FACTORY – LANKA</td>\n",
       "      <td>3300</td>\n",
       "      <td>DCNEL FACTORY – LANKA</td>\n",
       "      <td>7007301</td>\n",
       "      <td>...</td>\n",
       "      <td>Direct</td>\n",
       "      <td>FPD</td>\n",
       "      <td>Road</td>\n",
       "      <td>7833840320</td>\n",
       "      <td>ABHAYAPURI</td>\n",
       "      <td>DALMIA</td>\n",
       "      <td>PPC</td>\n",
       "      <td>10.0</td>\n",
       "      <td>95200</td>\n",
       "      <td>95200.0</td>\n",
       "    </tr>\n",
       "    <tr>\n",
       "      <th>3</th>\n",
       "      <td>Jul'23</td>\n",
       "      <td>2023-07-10</td>\n",
       "      <td>North East</td>\n",
       "      <td>NE1</td>\n",
       "      <td>Trade</td>\n",
       "      <td>6300</td>\n",
       "      <td>ALSTHOM FACTORY-JAGI ROAD</td>\n",
       "      <td>6300</td>\n",
       "      <td>ALSTHOM FACTORY-JAGI ROAD</td>\n",
       "      <td>7007301</td>\n",
       "      <td>...</td>\n",
       "      <td>Direct</td>\n",
       "      <td>FPD</td>\n",
       "      <td>Road</td>\n",
       "      <td>7833840320</td>\n",
       "      <td>ABHAYAPURI</td>\n",
       "      <td>DALMIA</td>\n",
       "      <td>PPC</td>\n",
       "      <td>4.0</td>\n",
       "      <td>38080</td>\n",
       "      <td>38080.0</td>\n",
       "    </tr>\n",
       "    <tr>\n",
       "      <th>4</th>\n",
       "      <td>Jul'23</td>\n",
       "      <td>2023-07-12</td>\n",
       "      <td>North East</td>\n",
       "      <td>NE1</td>\n",
       "      <td>Trade</td>\n",
       "      <td>6300</td>\n",
       "      <td>ALSTHOM FACTORY-JAGI ROAD</td>\n",
       "      <td>6300</td>\n",
       "      <td>ALSTHOM FACTORY-JAGI ROAD</td>\n",
       "      <td>7007301</td>\n",
       "      <td>...</td>\n",
       "      <td>Direct</td>\n",
       "      <td>FPD</td>\n",
       "      <td>Road</td>\n",
       "      <td>7833840320</td>\n",
       "      <td>ABHAYAPURI</td>\n",
       "      <td>DSP</td>\n",
       "      <td>DSP</td>\n",
       "      <td>15.0</td>\n",
       "      <td>151800</td>\n",
       "      <td>151800.0</td>\n",
       "    </tr>\n",
       "  </tbody>\n",
       "</table>\n",
       "<p>5 rows × 26 columns</p>\n",
       "</div>"
      ],
      "text/plain": [
       "    month billing_date sales_region sales_zone sales_type manufacturing_plant  \\\n",
       "0  Jul'23   2023-07-26   North East        NE1      Trade                3300   \n",
       "1  Jul'23   2023-07-31   North East        NE1      Trade                3300   \n",
       "2  Jul'23   2023-07-31   North East        NE1      Trade                3300   \n",
       "3  Jul'23   2023-07-10   North East        NE1      Trade                6300   \n",
       "4  Jul'23   2023-07-12   North East        NE1      Trade                6300   \n",
       "\n",
       "    manufacturing_plant_name plant                 plant_name  \\\n",
       "0      DCNEL FACTORY – LANKA  3300      DCNEL FACTORY – LANKA   \n",
       "1      DCNEL FACTORY – LANKA  3300      DCNEL FACTORY – LANKA   \n",
       "2      DCNEL FACTORY – LANKA  3300      DCNEL FACTORY – LANKA   \n",
       "3  ALSTHOM FACTORY-JAGI ROAD  6300  ALSTHOM FACTORY-JAGI ROAD   \n",
       "4  ALSTHOM FACTORY-JAGI ROAD  6300  ALSTHOM FACTORY-JAGI ROAD   \n",
       "\n",
       "   sold_to_party_code  ... direct_depot incoterms_inco  mode_of_transport  \\\n",
       "0             7007301  ...       Direct            FPD               Road   \n",
       "1             7007301  ...       Direct            FPD               Road   \n",
       "2             7007301  ...       Direct            FPD               Road   \n",
       "3             7007301  ...       Direct            FPD               Road   \n",
       "4             7007301  ...       Direct            FPD               Road   \n",
       "\n",
       "       t_zone  tzone_desc   brand product bill_quantity gross_bill_price  \\\n",
       "0  7833840320  ABHAYAPURI     DSP     DSP          25.0           253000   \n",
       "1  7833840320  ABHAYAPURI     DSP     DSP          15.0           151800   \n",
       "2  7833840320  ABHAYAPURI  DALMIA     PPC          10.0            95200   \n",
       "3  7833840320  ABHAYAPURI  DALMIA     PPC           4.0            38080   \n",
       "4  7833840320  ABHAYAPURI     DSP     DSP          15.0           151800   \n",
       "\n",
       "  zbill_invoice_bill  \n",
       "0           253000.0  \n",
       "1           151800.0  \n",
       "2            95200.0  \n",
       "3            38080.0  \n",
       "4           151800.0  \n",
       "\n",
       "[5 rows x 26 columns]"
      ]
     },
     "execution_count": 7,
     "metadata": {},
     "output_type": "execute_result"
    }
   ],
   "source": [
    "df.head()"
   ]
  },
  {
   "cell_type": "code",
   "execution_count": 8,
   "id": "5634b032-8345-413a-b315-e204de599eda",
   "metadata": {},
   "outputs": [],
   "source": [
    "def return_yoy_df(df):\n",
    "    df_sales = create_date_columns([df])\n",
    "    df_sales = df_sales[['sold_to_party_code','Month_Year','bill_quantity']]\n",
    "    #df_sales =df_sales[df_sales['sold_to_party_code']!='DONATION']\n",
    "    df_group_month = df_sales.groupby(['sold_to_party_code','Month_Year']).agg({'bill_quantity': ['sum']}).reset_index()\n",
    "    df_group_month.columns = ['Sold To Party Code', 'Month Year' , 'Sum']\n",
    "    pivot_table = pd.pivot_table(df_group_month, values='Sum',columns='Month Year', index = 'Sold To Party Code')\n",
    "    return pivot_table\n",
    "pivot = return_yoy_df(df)"
   ]
  },
  {
   "cell_type": "code",
   "execution_count": 9,
   "id": "baf5abc1-eaf6-4b33-982a-7c41137b746b",
   "metadata": {},
   "outputs": [],
   "source": [
    "pivot = pivot.fillna(0)"
   ]
  },
  {
   "cell_type": "code",
   "execution_count": 11,
   "id": "8ffb047c-5881-4440-9896-204cdbbc6fe4",
   "metadata": {},
   "outputs": [],
   "source": [
    "df['day_of_month'] = pd.to_datetime(df['billing_date']).dt.day\n",
    "df['week_of_month'] = (df['day_of_month']-1)//7+1"
   ]
  },
  {
   "cell_type": "code",
   "execution_count": 21,
   "id": "ece92e67-c763-4659-9439-eb42598bf4df",
   "metadata": {},
   "outputs": [],
   "source": [
    "df_sales = df[['sold_to_party_code','Month_Year',  'week_of_month','bill_quantity']].copy()"
   ]
  },
  {
   "cell_type": "code",
   "execution_count": 22,
   "id": "64857b2a-ec5f-416e-b72c-f3f2bcabe65b",
   "metadata": {},
   "outputs": [
    {
     "data": {
      "text/html": [
       "<div>\n",
       "<style scoped>\n",
       "    .dataframe tbody tr th:only-of-type {\n",
       "        vertical-align: middle;\n",
       "    }\n",
       "\n",
       "    .dataframe tbody tr th {\n",
       "        vertical-align: top;\n",
       "    }\n",
       "\n",
       "    .dataframe thead th {\n",
       "        text-align: right;\n",
       "    }\n",
       "</style>\n",
       "<table border=\"1\" class=\"dataframe\">\n",
       "  <thead>\n",
       "    <tr style=\"text-align: right;\">\n",
       "      <th></th>\n",
       "      <th>sold_to_party_code</th>\n",
       "      <th>Month_Year</th>\n",
       "      <th>week_of_month</th>\n",
       "      <th>bill_quantity</th>\n",
       "    </tr>\n",
       "  </thead>\n",
       "  <tbody>\n",
       "    <tr>\n",
       "      <th>0</th>\n",
       "      <td>7007301</td>\n",
       "      <td>2023-07</td>\n",
       "      <td>4</td>\n",
       "      <td>25.0</td>\n",
       "    </tr>\n",
       "    <tr>\n",
       "      <th>1</th>\n",
       "      <td>7007301</td>\n",
       "      <td>2023-07</td>\n",
       "      <td>5</td>\n",
       "      <td>15.0</td>\n",
       "    </tr>\n",
       "    <tr>\n",
       "      <th>2</th>\n",
       "      <td>7007301</td>\n",
       "      <td>2023-07</td>\n",
       "      <td>5</td>\n",
       "      <td>10.0</td>\n",
       "    </tr>\n",
       "    <tr>\n",
       "      <th>3</th>\n",
       "      <td>7007301</td>\n",
       "      <td>2023-07</td>\n",
       "      <td>2</td>\n",
       "      <td>4.0</td>\n",
       "    </tr>\n",
       "    <tr>\n",
       "      <th>4</th>\n",
       "      <td>7007301</td>\n",
       "      <td>2023-07</td>\n",
       "      <td>2</td>\n",
       "      <td>15.0</td>\n",
       "    </tr>\n",
       "  </tbody>\n",
       "</table>\n",
       "</div>"
      ],
      "text/plain": [
       "   sold_to_party_code Month_Year  week_of_month  bill_quantity\n",
       "0             7007301    2023-07              4           25.0\n",
       "1             7007301    2023-07              5           15.0\n",
       "2             7007301    2023-07              5           10.0\n",
       "3             7007301    2023-07              2            4.0\n",
       "4             7007301    2023-07              2           15.0"
      ]
     },
     "execution_count": 22,
     "metadata": {},
     "output_type": "execute_result"
    }
   ],
   "source": [
    "df_sales.head()"
   ]
  },
  {
   "cell_type": "code",
   "execution_count": 29,
   "id": "837769e3-6aba-43fe-bd7b-e2f332b29a61",
   "metadata": {},
   "outputs": [],
   "source": [
    "df_group_week = df_sales.groupby(['sold_to_party_code','Month_Year','week_of_month']).agg({'bill_quantity': ['sum']}).reset_index()"
   ]
  },
  {
   "cell_type": "code",
   "execution_count": 33,
   "id": "8dda388e-3115-4bc5-9819-2703f14119fa",
   "metadata": {},
   "outputs": [],
   "source": [
    "df_group_week.columns = ['Sold To Party Code', 'Month Year' , 'Week of Month','Sum']"
   ]
  },
  {
   "cell_type": "code",
   "execution_count": 35,
   "id": "617f8836-3b8a-434c-8e54-89fc63754bb8",
   "metadata": {},
   "outputs": [],
   "source": [
    "pivot_table = pd.pivot_table(df_group_week, values='Sum',columns=['Month Year','Week of Month'], index = 'Sold To Party Code')"
   ]
  },
  {
   "cell_type": "code",
   "execution_count": 38,
   "id": "eb8ecb82-0b4c-4f52-8548-31f8cd24df06",
   "metadata": {},
   "outputs": [],
   "source": [
    "pivot_table = pivot_table.fillna(0)"
   ]
  },
  {
   "cell_type": "code",
   "execution_count": 39,
   "id": "41f12fd2-50b0-43d3-9ee0-838ba01662df",
   "metadata": {},
   "outputs": [],
   "source": [
    "pivot_table.to_excel('data/weekly_pivot.xlsx')"
   ]
  },
  {
   "cell_type": "code",
   "execution_count": null,
   "id": "a98b1ada-11bf-43a9-9620-bbea36cbd4c3",
   "metadata": {},
   "outputs": [],
   "source": []
  },
  {
   "cell_type": "code",
   "execution_count": null,
   "id": "66fd5595-fccd-4ee0-8bb9-48f2ff3065b1",
   "metadata": {},
   "outputs": [],
   "source": []
  },
  {
   "cell_type": "code",
   "execution_count": 40,
   "id": "73b97941-6836-4423-962e-9896b3caf65f",
   "metadata": {},
   "outputs": [],
   "source": [
    "influencer = pd.read_excel('data/Influencer Mapping.xlsx')"
   ]
  },
  {
   "cell_type": "code",
   "execution_count": 41,
   "id": "242bb809-23df-4b9b-a949-a87030e6503c",
   "metadata": {},
   "outputs": [],
   "source": [
    "influencer_group = influencer[['Tagged Dealer SAP Code',\n",
    "                               'Membership Id']].groupby(by= 'Tagged Dealer SAP Code').agg({'Membership Id':['count']}).reset_index()"
   ]
  },
  {
   "cell_type": "code",
   "execution_count": 42,
   "id": "12405f6b-e57d-4b68-b0fd-49169f637684",
   "metadata": {},
   "outputs": [],
   "source": [
    "host=\"database-dalmia.cms6cet2hwec.ap-south-1.rds.amazonaws.com\"\n",
    "database=\"dalmia_digital\"\n",
    "user=\"postgres\"\n",
    "password=\"dalmia123\"\n",
    "sql_query =  \"select * from dalmia_sales.dealer_target\"\n",
    "#reading the data\n",
    "target = connection_db(host= host , database=database, user=user , password=password, sql_query=sql_query)"
   ]
  },
  {
   "cell_type": "code",
   "execution_count": 43,
   "id": "4d7d8e6d-e250-4136-9222-c823311ee528",
   "metadata": {},
   "outputs": [],
   "source": [
    "target = target[target['dealer_id']!='Grand Total']\n",
    "target['dealer_id'] = target['dealer_id'].astype('int')"
   ]
  },
  {
   "cell_type": "code",
   "execution_count": 44,
   "id": "59c07239-6723-41fd-8842-71d7c7fa04d1",
   "metadata": {},
   "outputs": [],
   "source": [
    "target = target[['dealer_id','total_2022_04','total_2022_05','total_2022_06','total_2022_07','total_2022_08',\n",
    "                'total_2022_09','total_2022_10','total_2022_11','total_2022_12','total_2023_01','total_2023_02','total_2023_03',\n",
    "                'total_2023_04','total_2023_05']]"
   ]
  },
  {
   "cell_type": "code",
   "execution_count": 45,
   "id": "1b0018e7-2443-4297-9570-d1361c2866b8",
   "metadata": {},
   "outputs": [],
   "source": [
    "target = target[(target['dealer_id']>=7000000)&(target['dealer_id']<7100000)]"
   ]
  },
  {
   "cell_type": "code",
   "execution_count": 46,
   "id": "7fb52f90-305c-41a8-bdc4-0165ecd22b0a",
   "metadata": {},
   "outputs": [],
   "source": [
    "target.index = target['dealer_id']\n",
    "target.drop('dealer_id' , axis = 1 , inplace = True)"
   ]
  },
  {
   "cell_type": "code",
   "execution_count": 47,
   "id": "3f68cc37-719b-4bbd-bb6e-fee59dd63ea9",
   "metadata": {},
   "outputs": [],
   "source": [
    "influencer_group.columns = ['dealer_id' , 'influencer_count']"
   ]
  },
  {
   "cell_type": "code",
   "execution_count": 48,
   "id": "18118f65-5bd5-4fbb-a776-93aefe8902a6",
   "metadata": {},
   "outputs": [],
   "source": [
    "influencer_group.index = influencer_group['dealer_id']\n",
    "influencer_group.drop('dealer_id', axis = 1 , inplace =True)"
   ]
  },
  {
   "cell_type": "code",
   "execution_count": 49,
   "id": "d2bbff0f-1049-4336-85ab-4888190b5cfd",
   "metadata": {},
   "outputs": [],
   "source": [
    "data = target.merge(influencer_group , left_index=True , right_index=True , how = 'left')"
   ]
  },
  {
   "cell_type": "code",
   "execution_count": 50,
   "id": "6d5465df-8cb2-4014-8d16-0134bf25130b",
   "metadata": {},
   "outputs": [],
   "source": [
    "data_1 = data.merge(pivot , left_index=True , right_index=True , how = 'inner')"
   ]
  },
  {
   "cell_type": "code",
   "execution_count": null,
   "id": "cd173312-9330-48c6-b439-11b94957b0bd",
   "metadata": {},
   "outputs": [],
   "source": []
  },
  {
   "cell_type": "code",
   "execution_count": 51,
   "id": "51908b5a-7ea4-4c55-9e45-392a40730bde",
   "metadata": {},
   "outputs": [],
   "source": [
    "test = data_1"
   ]
  },
  {
   "cell_type": "code",
   "execution_count": 52,
   "id": "f79afee4-9f9c-4a4e-a1ee-112b340a139a",
   "metadata": {},
   "outputs": [],
   "source": [
    "test = test.fillna(0)"
   ]
  },
  {
   "cell_type": "code",
   "execution_count": 53,
   "id": "e6f6eef5-7be5-4c13-ab2e-1614c9e7d723",
   "metadata": {},
   "outputs": [],
   "source": [
    "total = ['total_2022_04', 'total_2022_05', 'total_2022_06', 'total_2022_07',\n",
    "       'total_2022_08', 'total_2022_09', 'total_2022_10', 'total_2022_11',\n",
    "       'total_2022_12', 'total_2023_01', 'total_2023_02', 'total_2023_03',\n",
    "       'total_2023_04', 'total_2023_05']\n",
    "test['total_target'] = 0\n",
    "for i in total:\n",
    "    test['total_target'] = test[i]+test['total_target']"
   ]
  },
  {
   "cell_type": "code",
   "execution_count": 78,
   "id": "58fb2b8c-bd45-48fc-8c06-9d058c7bcfae",
   "metadata": {},
   "outputs": [],
   "source": [
    "sales = ['2022-04', '2022-05', '2022-06', '2022-07',\n",
    "       '2022-08', '2022-09', '2022-10', '2022-11', '2022-12', '2023-01',\n",
    "       '2023-02', '2023-03']\n",
    "test['total_sales'] = 0\n",
    "for i in sales:\n",
    "    test['total_sales'] = test[i]+test['total_sales']"
   ]
  },
  {
   "cell_type": "code",
   "execution_count": 79,
   "id": "04155754-8235-43c1-b169-a65518df0bb3",
   "metadata": {},
   "outputs": [],
   "source": [
    "sales = ['2021-04', '2021-05', '2021-06', '2021-07',\n",
    "       '2021-08', '2021-09', '2021-10', '2021-11', '2021-12', '2022-01',\n",
    "       '2022-02', '2022-03']\n",
    "test['previous_sales'] = test[sales].sum(axis = 1)\n"
   ]
  },
  {
   "cell_type": "code",
   "execution_count": 80,
   "id": "c7152f86-4784-4088-bf2a-bbd2b35935f2",
   "metadata": {},
   "outputs": [],
   "source": [
    "test['target_achieved'] =test['total_sales']/test['total_target']"
   ]
  },
  {
   "cell_type": "code",
   "execution_count": 81,
   "id": "28526436-8ea1-47d8-bd85-f589d5b6c936",
   "metadata": {},
   "outputs": [],
   "source": [
    "cluster_df = test[['total_sales'  , 'influencer_count' , 'target_achieved', 'previous_sales']].copy()"
   ]
  },
  {
   "cell_type": "code",
   "execution_count": 89,
   "id": "448ee066-48fb-42f1-b431-f301b3646bc5",
   "metadata": {},
   "outputs": [],
   "source": [
    "cluster_df = cluster_df[cluster_df['total_sales']!=0]\n",
    "cluster_df = cluster_df+1"
   ]
  },
  {
   "cell_type": "code",
   "execution_count": 90,
   "id": "66df63e1-3b7d-44bd-9744-b5cd100a0a20",
   "metadata": {},
   "outputs": [],
   "source": [
    "from sklearn.preprocessing import MinMaxScaler\n",
    "def factor_analysis(df):\n",
    "    Sc = MinMaxScaler()\n",
    "    scaled_df = Sc.fit_transform(df)\n",
    "    scaled_df = pd.DataFrame(scaled_df , columns = df.columns)\n",
    "    covariance_matrix = np.cov(scaled_df.T)\n",
    "    eigenvalues, eigenvectors = np.linalg.eig(covariance_matrix)\n",
    "    explained_variance_ratio = eigenvalues / np.sum(eigenvalues)\n",
    "    return explained_variance_ratio , scaled_df\n",
    "\n",
    "def deciles(number): \n",
    "    if number==0:\n",
    "        return 0\n",
    "    if number>0 and number<0.1:\n",
    "        return 1\n",
    "    if number>=0.1 and number<0.2:\n",
    "        return 2\n",
    "    if number>=0.2 and number<0.3:\n",
    "        return 3\n",
    "    if number>=0.3 and number<0.4:\n",
    "        return 4\n",
    "    if number>=0.4 and number<0.5:\n",
    "        return 5\n",
    "    if number>=0.5 and number<0.6:\n",
    "        return 6\n",
    "    if number>=0.6 and number<0.7:\n",
    "        return 7\n",
    "    if number>=0.7 and number<0.8:\n",
    "        return 8\n",
    "    if number>=0.8 and number<0.9:\n",
    "        return 9\n",
    "    if number>=0.9 and number<=1:\n",
    "        return 10"
   ]
  },
  {
   "cell_type": "code",
   "execution_count": 93,
   "id": "b060e56f-2795-452a-9b1c-bce701e29820",
   "metadata": {},
   "outputs": [
    {
     "name": "stdout",
     "output_type": "stream",
     "text": [
      "<class 'pandas.core.frame.DataFrame'>\n",
      "Int64Index: 11746 entries, 7000004 to 7039802\n",
      "Data columns (total 4 columns):\n",
      " #   Column            Non-Null Count  Dtype  \n",
      "---  ------            --------------  -----  \n",
      " 0   total_sales       11746 non-null  float64\n",
      " 1   influencer_count  11746 non-null  float64\n",
      " 2   target_achieved   11746 non-null  float64\n",
      " 3   previous_sales    11746 non-null  float64\n",
      "dtypes: float64(4)\n",
      "memory usage: 458.8 KB\n"
     ]
    }
   ],
   "source": [
    "cluster_df.info()"
   ]
  },
  {
   "cell_type": "code",
   "execution_count": 91,
   "id": "df66cc35-a3e1-4ada-b7be-d9c7e07e376b",
   "metadata": {},
   "outputs": [],
   "source": [
    "cluster_df = cluster_df.astype('float64')"
   ]
  },
  {
   "cell_type": "code",
   "execution_count": 92,
   "id": "bc285d56-72b9-409c-9c15-52db86166d30",
   "metadata": {},
   "outputs": [
    {
     "ename": "ValueError",
     "evalue": "Input X contains infinity or a value too large for dtype('float64').",
     "output_type": "error",
     "traceback": [
      "\u001b[0;31m---------------------------------------------------------------------------\u001b[0m",
      "\u001b[0;31mValueError\u001b[0m                                Traceback (most recent call last)",
      "Cell \u001b[0;32mIn[92], line 1\u001b[0m\n\u001b[0;32m----> 1\u001b[0m aaaa \u001b[38;5;241m=\u001b[39m \u001b[43mMinMaxScaler\u001b[49m\u001b[43m(\u001b[49m\u001b[43m)\u001b[49m\u001b[38;5;241;43m.\u001b[39;49m\u001b[43mfit_transform\u001b[49m\u001b[43m(\u001b[49m\u001b[43mcluster_df\u001b[49m\u001b[43m)\u001b[49m\n",
      "File \u001b[0;32m/opt/homebrew/anaconda3/lib/python3.10/site-packages/sklearn/utils/_set_output.py:142\u001b[0m, in \u001b[0;36m_wrap_method_output.<locals>.wrapped\u001b[0;34m(self, X, *args, **kwargs)\u001b[0m\n\u001b[1;32m    140\u001b[0m \u001b[38;5;129m@wraps\u001b[39m(f)\n\u001b[1;32m    141\u001b[0m \u001b[38;5;28;01mdef\u001b[39;00m \u001b[38;5;21mwrapped\u001b[39m(\u001b[38;5;28mself\u001b[39m, X, \u001b[38;5;241m*\u001b[39margs, \u001b[38;5;241m*\u001b[39m\u001b[38;5;241m*\u001b[39mkwargs):\n\u001b[0;32m--> 142\u001b[0m     data_to_wrap \u001b[38;5;241m=\u001b[39m \u001b[43mf\u001b[49m\u001b[43m(\u001b[49m\u001b[38;5;28;43mself\u001b[39;49m\u001b[43m,\u001b[49m\u001b[43m \u001b[49m\u001b[43mX\u001b[49m\u001b[43m,\u001b[49m\u001b[43m \u001b[49m\u001b[38;5;241;43m*\u001b[39;49m\u001b[43margs\u001b[49m\u001b[43m,\u001b[49m\u001b[43m \u001b[49m\u001b[38;5;241;43m*\u001b[39;49m\u001b[38;5;241;43m*\u001b[39;49m\u001b[43mkwargs\u001b[49m\u001b[43m)\u001b[49m\n\u001b[1;32m    143\u001b[0m     \u001b[38;5;28;01mif\u001b[39;00m \u001b[38;5;28misinstance\u001b[39m(data_to_wrap, \u001b[38;5;28mtuple\u001b[39m):\n\u001b[1;32m    144\u001b[0m         \u001b[38;5;66;03m# only wrap the first output for cross decomposition\u001b[39;00m\n\u001b[1;32m    145\u001b[0m         \u001b[38;5;28;01mreturn\u001b[39;00m (\n\u001b[1;32m    146\u001b[0m             _wrap_data_with_container(method, data_to_wrap[\u001b[38;5;241m0\u001b[39m], X, \u001b[38;5;28mself\u001b[39m),\n\u001b[1;32m    147\u001b[0m             \u001b[38;5;241m*\u001b[39mdata_to_wrap[\u001b[38;5;241m1\u001b[39m:],\n\u001b[1;32m    148\u001b[0m         )\n",
      "File \u001b[0;32m/opt/homebrew/anaconda3/lib/python3.10/site-packages/sklearn/base.py:859\u001b[0m, in \u001b[0;36mTransformerMixin.fit_transform\u001b[0;34m(self, X, y, **fit_params)\u001b[0m\n\u001b[1;32m    855\u001b[0m \u001b[38;5;66;03m# non-optimized default implementation; override when a better\u001b[39;00m\n\u001b[1;32m    856\u001b[0m \u001b[38;5;66;03m# method is possible for a given clustering algorithm\u001b[39;00m\n\u001b[1;32m    857\u001b[0m \u001b[38;5;28;01mif\u001b[39;00m y \u001b[38;5;129;01mis\u001b[39;00m \u001b[38;5;28;01mNone\u001b[39;00m:\n\u001b[1;32m    858\u001b[0m     \u001b[38;5;66;03m# fit method of arity 1 (unsupervised transformation)\u001b[39;00m\n\u001b[0;32m--> 859\u001b[0m     \u001b[38;5;28;01mreturn\u001b[39;00m \u001b[38;5;28;43mself\u001b[39;49m\u001b[38;5;241;43m.\u001b[39;49m\u001b[43mfit\u001b[49m\u001b[43m(\u001b[49m\u001b[43mX\u001b[49m\u001b[43m,\u001b[49m\u001b[43m \u001b[49m\u001b[38;5;241;43m*\u001b[39;49m\u001b[38;5;241;43m*\u001b[39;49m\u001b[43mfit_params\u001b[49m\u001b[43m)\u001b[49m\u001b[38;5;241m.\u001b[39mtransform(X)\n\u001b[1;32m    860\u001b[0m \u001b[38;5;28;01melse\u001b[39;00m:\n\u001b[1;32m    861\u001b[0m     \u001b[38;5;66;03m# fit method of arity 2 (supervised transformation)\u001b[39;00m\n\u001b[1;32m    862\u001b[0m     \u001b[38;5;28;01mreturn\u001b[39;00m \u001b[38;5;28mself\u001b[39m\u001b[38;5;241m.\u001b[39mfit(X, y, \u001b[38;5;241m*\u001b[39m\u001b[38;5;241m*\u001b[39mfit_params)\u001b[38;5;241m.\u001b[39mtransform(X)\n",
      "File \u001b[0;32m/opt/homebrew/anaconda3/lib/python3.10/site-packages/sklearn/preprocessing/_data.py:427\u001b[0m, in \u001b[0;36mMinMaxScaler.fit\u001b[0;34m(self, X, y)\u001b[0m\n\u001b[1;32m    425\u001b[0m \u001b[38;5;66;03m# Reset internal state before fitting\u001b[39;00m\n\u001b[1;32m    426\u001b[0m \u001b[38;5;28mself\u001b[39m\u001b[38;5;241m.\u001b[39m_reset()\n\u001b[0;32m--> 427\u001b[0m \u001b[38;5;28;01mreturn\u001b[39;00m \u001b[38;5;28;43mself\u001b[39;49m\u001b[38;5;241;43m.\u001b[39;49m\u001b[43mpartial_fit\u001b[49m\u001b[43m(\u001b[49m\u001b[43mX\u001b[49m\u001b[43m,\u001b[49m\u001b[43m \u001b[49m\u001b[43my\u001b[49m\u001b[43m)\u001b[49m\n",
      "File \u001b[0;32m/opt/homebrew/anaconda3/lib/python3.10/site-packages/sklearn/preprocessing/_data.py:466\u001b[0m, in \u001b[0;36mMinMaxScaler.partial_fit\u001b[0;34m(self, X, y)\u001b[0m\n\u001b[1;32m    460\u001b[0m     \u001b[38;5;28;01mraise\u001b[39;00m \u001b[38;5;167;01mTypeError\u001b[39;00m(\n\u001b[1;32m    461\u001b[0m         \u001b[38;5;124m\"\u001b[39m\u001b[38;5;124mMinMaxScaler does not support sparse input. \u001b[39m\u001b[38;5;124m\"\u001b[39m\n\u001b[1;32m    462\u001b[0m         \u001b[38;5;124m\"\u001b[39m\u001b[38;5;124mConsider using MaxAbsScaler instead.\u001b[39m\u001b[38;5;124m\"\u001b[39m\n\u001b[1;32m    463\u001b[0m     )\n\u001b[1;32m    465\u001b[0m first_pass \u001b[38;5;241m=\u001b[39m \u001b[38;5;129;01mnot\u001b[39;00m \u001b[38;5;28mhasattr\u001b[39m(\u001b[38;5;28mself\u001b[39m, \u001b[38;5;124m\"\u001b[39m\u001b[38;5;124mn_samples_seen_\u001b[39m\u001b[38;5;124m\"\u001b[39m)\n\u001b[0;32m--> 466\u001b[0m X \u001b[38;5;241m=\u001b[39m \u001b[38;5;28;43mself\u001b[39;49m\u001b[38;5;241;43m.\u001b[39;49m\u001b[43m_validate_data\u001b[49m\u001b[43m(\u001b[49m\n\u001b[1;32m    467\u001b[0m \u001b[43m    \u001b[49m\u001b[43mX\u001b[49m\u001b[43m,\u001b[49m\n\u001b[1;32m    468\u001b[0m \u001b[43m    \u001b[49m\u001b[43mreset\u001b[49m\u001b[38;5;241;43m=\u001b[39;49m\u001b[43mfirst_pass\u001b[49m\u001b[43m,\u001b[49m\n\u001b[1;32m    469\u001b[0m \u001b[43m    \u001b[49m\u001b[43mdtype\u001b[49m\u001b[38;5;241;43m=\u001b[39;49m\u001b[43mFLOAT_DTYPES\u001b[49m\u001b[43m,\u001b[49m\n\u001b[1;32m    470\u001b[0m \u001b[43m    \u001b[49m\u001b[43mforce_all_finite\u001b[49m\u001b[38;5;241;43m=\u001b[39;49m\u001b[38;5;124;43m\"\u001b[39;49m\u001b[38;5;124;43mallow-nan\u001b[39;49m\u001b[38;5;124;43m\"\u001b[39;49m\u001b[43m,\u001b[49m\n\u001b[1;32m    471\u001b[0m \u001b[43m\u001b[49m\u001b[43m)\u001b[49m\n\u001b[1;32m    473\u001b[0m data_min \u001b[38;5;241m=\u001b[39m np\u001b[38;5;241m.\u001b[39mnanmin(X, axis\u001b[38;5;241m=\u001b[39m\u001b[38;5;241m0\u001b[39m)\n\u001b[1;32m    474\u001b[0m data_max \u001b[38;5;241m=\u001b[39m np\u001b[38;5;241m.\u001b[39mnanmax(X, axis\u001b[38;5;241m=\u001b[39m\u001b[38;5;241m0\u001b[39m)\n",
      "File \u001b[0;32m/opt/homebrew/anaconda3/lib/python3.10/site-packages/sklearn/base.py:546\u001b[0m, in \u001b[0;36mBaseEstimator._validate_data\u001b[0;34m(self, X, y, reset, validate_separately, **check_params)\u001b[0m\n\u001b[1;32m    544\u001b[0m     \u001b[38;5;28;01mraise\u001b[39;00m \u001b[38;5;167;01mValueError\u001b[39;00m(\u001b[38;5;124m\"\u001b[39m\u001b[38;5;124mValidation should be done on X, y or both.\u001b[39m\u001b[38;5;124m\"\u001b[39m)\n\u001b[1;32m    545\u001b[0m \u001b[38;5;28;01melif\u001b[39;00m \u001b[38;5;129;01mnot\u001b[39;00m no_val_X \u001b[38;5;129;01mand\u001b[39;00m no_val_y:\n\u001b[0;32m--> 546\u001b[0m     X \u001b[38;5;241m=\u001b[39m \u001b[43mcheck_array\u001b[49m\u001b[43m(\u001b[49m\u001b[43mX\u001b[49m\u001b[43m,\u001b[49m\u001b[43m \u001b[49m\u001b[43minput_name\u001b[49m\u001b[38;5;241;43m=\u001b[39;49m\u001b[38;5;124;43m\"\u001b[39;49m\u001b[38;5;124;43mX\u001b[39;49m\u001b[38;5;124;43m\"\u001b[39;49m\u001b[43m,\u001b[49m\u001b[43m \u001b[49m\u001b[38;5;241;43m*\u001b[39;49m\u001b[38;5;241;43m*\u001b[39;49m\u001b[43mcheck_params\u001b[49m\u001b[43m)\u001b[49m\n\u001b[1;32m    547\u001b[0m     out \u001b[38;5;241m=\u001b[39m X\n\u001b[1;32m    548\u001b[0m \u001b[38;5;28;01melif\u001b[39;00m no_val_X \u001b[38;5;129;01mand\u001b[39;00m \u001b[38;5;129;01mnot\u001b[39;00m no_val_y:\n",
      "File \u001b[0;32m/opt/homebrew/anaconda3/lib/python3.10/site-packages/sklearn/utils/validation.py:921\u001b[0m, in \u001b[0;36mcheck_array\u001b[0;34m(array, accept_sparse, accept_large_sparse, dtype, order, copy, force_all_finite, ensure_2d, allow_nd, ensure_min_samples, ensure_min_features, estimator, input_name)\u001b[0m\n\u001b[1;32m    915\u001b[0m         \u001b[38;5;28;01mraise\u001b[39;00m \u001b[38;5;167;01mValueError\u001b[39;00m(\n\u001b[1;32m    916\u001b[0m             \u001b[38;5;124m\"\u001b[39m\u001b[38;5;124mFound array with dim \u001b[39m\u001b[38;5;132;01m%d\u001b[39;00m\u001b[38;5;124m. \u001b[39m\u001b[38;5;132;01m%s\u001b[39;00m\u001b[38;5;124m expected <= 2.\u001b[39m\u001b[38;5;124m\"\u001b[39m\n\u001b[1;32m    917\u001b[0m             \u001b[38;5;241m%\u001b[39m (array\u001b[38;5;241m.\u001b[39mndim, estimator_name)\n\u001b[1;32m    918\u001b[0m         )\n\u001b[1;32m    920\u001b[0m     \u001b[38;5;28;01mif\u001b[39;00m force_all_finite:\n\u001b[0;32m--> 921\u001b[0m         \u001b[43m_assert_all_finite\u001b[49m\u001b[43m(\u001b[49m\n\u001b[1;32m    922\u001b[0m \u001b[43m            \u001b[49m\u001b[43marray\u001b[49m\u001b[43m,\u001b[49m\n\u001b[1;32m    923\u001b[0m \u001b[43m            \u001b[49m\u001b[43minput_name\u001b[49m\u001b[38;5;241;43m=\u001b[39;49m\u001b[43minput_name\u001b[49m\u001b[43m,\u001b[49m\n\u001b[1;32m    924\u001b[0m \u001b[43m            \u001b[49m\u001b[43mestimator_name\u001b[49m\u001b[38;5;241;43m=\u001b[39;49m\u001b[43mestimator_name\u001b[49m\u001b[43m,\u001b[49m\n\u001b[1;32m    925\u001b[0m \u001b[43m            \u001b[49m\u001b[43mallow_nan\u001b[49m\u001b[38;5;241;43m=\u001b[39;49m\u001b[43mforce_all_finite\u001b[49m\u001b[43m \u001b[49m\u001b[38;5;241;43m==\u001b[39;49m\u001b[43m \u001b[49m\u001b[38;5;124;43m\"\u001b[39;49m\u001b[38;5;124;43mallow-nan\u001b[39;49m\u001b[38;5;124;43m\"\u001b[39;49m\u001b[43m,\u001b[49m\n\u001b[1;32m    926\u001b[0m \u001b[43m        \u001b[49m\u001b[43m)\u001b[49m\n\u001b[1;32m    928\u001b[0m \u001b[38;5;28;01mif\u001b[39;00m ensure_min_samples \u001b[38;5;241m>\u001b[39m \u001b[38;5;241m0\u001b[39m:\n\u001b[1;32m    929\u001b[0m     n_samples \u001b[38;5;241m=\u001b[39m _num_samples(array)\n",
      "File \u001b[0;32m/opt/homebrew/anaconda3/lib/python3.10/site-packages/sklearn/utils/validation.py:161\u001b[0m, in \u001b[0;36m_assert_all_finite\u001b[0;34m(X, allow_nan, msg_dtype, estimator_name, input_name)\u001b[0m\n\u001b[1;32m    144\u001b[0m \u001b[38;5;28;01mif\u001b[39;00m estimator_name \u001b[38;5;129;01mand\u001b[39;00m input_name \u001b[38;5;241m==\u001b[39m \u001b[38;5;124m\"\u001b[39m\u001b[38;5;124mX\u001b[39m\u001b[38;5;124m\"\u001b[39m \u001b[38;5;129;01mand\u001b[39;00m has_nan_error:\n\u001b[1;32m    145\u001b[0m     \u001b[38;5;66;03m# Improve the error message on how to handle missing values in\u001b[39;00m\n\u001b[1;32m    146\u001b[0m     \u001b[38;5;66;03m# scikit-learn.\u001b[39;00m\n\u001b[1;32m    147\u001b[0m     msg_err \u001b[38;5;241m+\u001b[39m\u001b[38;5;241m=\u001b[39m (\n\u001b[1;32m    148\u001b[0m         \u001b[38;5;124mf\u001b[39m\u001b[38;5;124m\"\u001b[39m\u001b[38;5;130;01m\\n\u001b[39;00m\u001b[38;5;132;01m{\u001b[39;00mestimator_name\u001b[38;5;132;01m}\u001b[39;00m\u001b[38;5;124m does not accept missing values\u001b[39m\u001b[38;5;124m\"\u001b[39m\n\u001b[1;32m    149\u001b[0m         \u001b[38;5;124m\"\u001b[39m\u001b[38;5;124m encoded as NaN natively. For supervised learning, you might want\u001b[39m\u001b[38;5;124m\"\u001b[39m\n\u001b[0;32m   (...)\u001b[0m\n\u001b[1;32m    159\u001b[0m         \u001b[38;5;124m\"\u001b[39m\u001b[38;5;124m#estimators-that-handle-nan-values\u001b[39m\u001b[38;5;124m\"\u001b[39m\n\u001b[1;32m    160\u001b[0m     )\n\u001b[0;32m--> 161\u001b[0m \u001b[38;5;28;01mraise\u001b[39;00m \u001b[38;5;167;01mValueError\u001b[39;00m(msg_err)\n",
      "\u001b[0;31mValueError\u001b[0m: Input X contains infinity or a value too large for dtype('float64')."
     ]
    }
   ],
   "source": [
    "aaaa = MinMaxScaler().fit_transform(cluster_df)"
   ]
  },
  {
   "cell_type": "code",
   "execution_count": 77,
   "id": "f9a2626f-65eb-4aa3-898b-0065189e8f5e",
   "metadata": {},
   "outputs": [],
   "source": [
    "playbook = pd.read_csv('data/playbook_rating.csv')\n",
    "playbook.index = playbook['Unnamed: 0']\n",
    "playbook.drop('Unnamed: 0', axis = 1 , inplace = True)\n",
    "playbook.drop('rating', axis = 1, inplace = True)\n",
    "playbook['bargain_r'] = playbook['bargain_r'].clip(upper=9.89)"
   ]
  },
  {
   "cell_type": "code",
   "execution_count": 78,
   "id": "9ddfd7c8-3af4-4f91-b8f8-0935a32f18c7",
   "metadata": {},
   "outputs": [
    {
     "data": {
      "text/html": [
       "<div>\n",
       "<style scoped>\n",
       "    .dataframe tbody tr th:only-of-type {\n",
       "        vertical-align: middle;\n",
       "    }\n",
       "\n",
       "    .dataframe tbody tr th {\n",
       "        vertical-align: top;\n",
       "    }\n",
       "\n",
       "    .dataframe thead th {\n",
       "        text-align: right;\n",
       "    }\n",
       "</style>\n",
       "<table border=\"1\" class=\"dataframe\">\n",
       "  <thead>\n",
       "    <tr style=\"text-align: right;\">\n",
       "      <th></th>\n",
       "      <th>muscle_r</th>\n",
       "      <th>bargain_r</th>\n",
       "      <th>relationship_r</th>\n",
       "    </tr>\n",
       "    <tr>\n",
       "      <th>Unnamed: 0</th>\n",
       "      <th></th>\n",
       "      <th></th>\n",
       "      <th></th>\n",
       "    </tr>\n",
       "  </thead>\n",
       "  <tbody>\n",
       "    <tr>\n",
       "      <th>7000004</th>\n",
       "      <td>7.443198</td>\n",
       "      <td>4.894111</td>\n",
       "      <td>3.716716</td>\n",
       "    </tr>\n",
       "    <tr>\n",
       "      <th>7000010</th>\n",
       "      <td>4.514641</td>\n",
       "      <td>3.105889</td>\n",
       "      <td>5.610527</td>\n",
       "    </tr>\n",
       "    <tr>\n",
       "      <th>7000015</th>\n",
       "      <td>5.969782</td>\n",
       "      <td>2.105889</td>\n",
       "      <td>3.195017</td>\n",
       "    </tr>\n",
       "    <tr>\n",
       "      <th>7000022</th>\n",
       "      <td>4.412979</td>\n",
       "      <td>1.035296</td>\n",
       "      <td>4.859292</td>\n",
       "    </tr>\n",
       "    <tr>\n",
       "      <th>7000025</th>\n",
       "      <td>8.443198</td>\n",
       "      <td>3.929407</td>\n",
       "      <td>5.966425</td>\n",
       "    </tr>\n",
       "    <tr>\n",
       "      <th>...</th>\n",
       "      <td>...</td>\n",
       "      <td>...</td>\n",
       "      <td>...</td>\n",
       "    </tr>\n",
       "    <tr>\n",
       "      <th>7037393</th>\n",
       "      <td>4.089719</td>\n",
       "      <td>6.035296</td>\n",
       "      <td>4.066106</td>\n",
       "    </tr>\n",
       "    <tr>\n",
       "      <th>7037396</th>\n",
       "      <td>3.048494</td>\n",
       "      <td>4.858815</td>\n",
       "      <td>3.506210</td>\n",
       "    </tr>\n",
       "    <tr>\n",
       "      <th>7037404</th>\n",
       "      <td>6.066770</td>\n",
       "      <td>9.682333</td>\n",
       "      <td>3.461285</td>\n",
       "    </tr>\n",
       "    <tr>\n",
       "      <th>7037425</th>\n",
       "      <td>6.323261</td>\n",
       "      <td>9.890000</td>\n",
       "      <td>5.267021</td>\n",
       "    </tr>\n",
       "    <tr>\n",
       "      <th>7037439</th>\n",
       "      <td>6.570405</td>\n",
       "      <td>6.788222</td>\n",
       "      <td>4.783187</td>\n",
       "    </tr>\n",
       "  </tbody>\n",
       "</table>\n",
       "<p>9209 rows × 3 columns</p>\n",
       "</div>"
      ],
      "text/plain": [
       "            muscle_r  bargain_r  relationship_r\n",
       "Unnamed: 0                                     \n",
       "7000004     7.443198   4.894111        3.716716\n",
       "7000010     4.514641   3.105889        5.610527\n",
       "7000015     5.969782   2.105889        3.195017\n",
       "7000022     4.412979   1.035296        4.859292\n",
       "7000025     8.443198   3.929407        5.966425\n",
       "...              ...        ...             ...\n",
       "7037393     4.089719   6.035296        4.066106\n",
       "7037396     3.048494   4.858815        3.506210\n",
       "7037404     6.066770   9.682333        3.461285\n",
       "7037425     6.323261   9.890000        5.267021\n",
       "7037439     6.570405   6.788222        4.783187\n",
       "\n",
       "[9209 rows x 3 columns]"
      ]
     },
     "execution_count": 78,
     "metadata": {},
     "output_type": "execute_result"
    }
   ],
   "source": [
    "playbook"
   ]
  },
  {
   "cell_type": "code",
   "execution_count": 81,
   "id": "5b070ab1-1259-45b3-ba28-7b640e951359",
   "metadata": {},
   "outputs": [],
   "source": [
    "expl , _ = factor_analysis(playbook)"
   ]
  },
  {
   "cell_type": "code",
   "execution_count": 82,
   "id": "fc6857fa-5337-421e-aad1-3e7cef1f5037",
   "metadata": {},
   "outputs": [
    {
     "data": {
      "text/plain": [
       "array([0.5992867 , 0.26702217, 0.13369113])"
      ]
     },
     "execution_count": 82,
     "metadata": {},
     "output_type": "execute_result"
    }
   ],
   "source": []
  },
  {
   "cell_type": "code",
   "execution_count": 83,
   "id": "afae9f98-86ea-4cda-918d-69f6ac96c4ca",
   "metadata": {},
   "outputs": [],
   "source": [
    "playbook['rating'] = playbook['muscle_r']*expl[0]+playbook['bargain_r']*expl[1]+playbook['relationship_r']*expl[2]"
   ]
  },
  {
   "cell_type": "code",
   "execution_count": 80,
   "id": "fe518674-de63-4218-b31d-b295abcf4435",
   "metadata": {},
   "outputs": [
    {
     "data": {
      "text/plain": [
       "9.89"
      ]
     },
     "execution_count": 80,
     "metadata": {},
     "output_type": "execute_result"
    }
   ],
   "source": [
    "playbook['bargain_r'].max()"
   ]
  },
  {
   "cell_type": "code",
   "execution_count": 86,
   "id": "3fa5c369-4309-4c74-a658-483807a195c5",
   "metadata": {},
   "outputs": [],
   "source": [
    "playbook.to_csv('data/playbook_rating_2.csv')"
   ]
  },
  {
   "cell_type": "code",
   "execution_count": 91,
   "id": "fd40a163-9e07-48cc-bfc8-f126c455e7a3",
   "metadata": {},
   "outputs": [
    {
     "data": {
      "image/png": "[encoded data removed]",
      "text/plain": [
       "<Figure size 640x480 with 2 Axes>"
      ]
     },
     "metadata": {},
     "output_type": "display_data"
    }
   ],
   "source": [
    "import matplotlib.pyplot as plt\n",
    "\n",
    "# Given array\n",
    "data = np.array([0.5992867, 0.26702217, 0.13369113])\n",
    "\n",
    "# Create a figure and axis\n",
    "fig, ax = plt.subplots()\n",
    "\n",
    "# Plot the heatmap as a row\n",
    "heatmap = ax.imshow(data.reshape(1, -1))\n",
    "\n",
    "# Customize the plot\n",
    "ax.set_title('Heatmap')\n",
    "ax.set_xlabel('Columns')\n",
    "ax.set_ylabel('Row')\n",
    "ax.set_xticks(np.arange(len(data)))\n",
    "ax.set_xticklabels(np.arange(len(data)))\n",
    "ax.set_yticks([])\n",
    "ax.grid(False)\n",
    "\n",
    "# Add colorbar\n",
    "cbar = fig.colorbar(heatmap)\n",
    "\n",
    "# Show the plot\n",
    "plt.show()\n",
    "\n",
    "\n",
    "\n"
   ]
  },
  {
   "cell_type": "code",
   "execution_count": 96,
   "id": "90ed506c-f688-4562-9d87-1bf7529384f3",
   "metadata": {},
   "outputs": [
    {
     "ename": "ValueError",
     "evalue": "The number of FixedLocator locations (1), usually from a call to set_ticks, does not match the number of labels (3).",
     "output_type": "error",
     "traceback": [
      "\u001b[0;31m---------------------------------------------------------------------------\u001b[0m",
      "\u001b[0;31mValueError\u001b[0m                                Traceback (most recent call last)",
      "Cell \u001b[0;32mIn[96], line 29\u001b[0m\n\u001b[1;32m     27\u001b[0m \u001b[38;5;66;03m# Add row names\u001b[39;00m\n\u001b[1;32m     28\u001b[0m ax\u001b[38;5;241m.\u001b[39mset_yticks([\u001b[38;5;241m0\u001b[39m])\n\u001b[0;32m---> 29\u001b[0m \u001b[43max\u001b[49m\u001b[38;5;241;43m.\u001b[39;49m\u001b[43mset_yticklabels\u001b[49m\u001b[43m(\u001b[49m\u001b[43mrow_names\u001b[49m\u001b[43m)\u001b[49m\n\u001b[1;32m     31\u001b[0m \u001b[38;5;66;03m# Add colorbar\u001b[39;00m\n\u001b[1;32m     32\u001b[0m cbar \u001b[38;5;241m=\u001b[39m fig\u001b[38;5;241m.\u001b[39mcolorbar(heatmap)\n",
      "File \u001b[0;32m/opt/homebrew/anaconda3/lib/python3.10/site-packages/matplotlib/axes/_base.py:74\u001b[0m, in \u001b[0;36m_axis_method_wrapper.__set_name__.<locals>.wrapper\u001b[0;34m(self, *args, **kwargs)\u001b[0m\n\u001b[1;32m     73\u001b[0m \u001b[38;5;28;01mdef\u001b[39;00m \u001b[38;5;21mwrapper\u001b[39m(\u001b[38;5;28mself\u001b[39m, \u001b[38;5;241m*\u001b[39margs, \u001b[38;5;241m*\u001b[39m\u001b[38;5;241m*\u001b[39mkwargs):\n\u001b[0;32m---> 74\u001b[0m     \u001b[38;5;28;01mreturn\u001b[39;00m \u001b[43mget_method\u001b[49m\u001b[43m(\u001b[49m\u001b[38;5;28;43mself\u001b[39;49m\u001b[43m)\u001b[49m\u001b[43m(\u001b[49m\u001b[38;5;241;43m*\u001b[39;49m\u001b[43margs\u001b[49m\u001b[43m,\u001b[49m\u001b[43m \u001b[49m\u001b[38;5;241;43m*\u001b[39;49m\u001b[38;5;241;43m*\u001b[39;49m\u001b[43mkwargs\u001b[49m\u001b[43m)\u001b[49m\n",
      "File \u001b[0;32m/opt/homebrew/anaconda3/lib/python3.10/site-packages/matplotlib/_api/deprecation.py:297\u001b[0m, in \u001b[0;36mrename_parameter.<locals>.wrapper\u001b[0;34m(*args, **kwargs)\u001b[0m\n\u001b[1;32m    292\u001b[0m     warn_deprecated(\n\u001b[1;32m    293\u001b[0m         since, message\u001b[38;5;241m=\u001b[39m\u001b[38;5;124mf\u001b[39m\u001b[38;5;124m\"\u001b[39m\u001b[38;5;124mThe \u001b[39m\u001b[38;5;132;01m{\u001b[39;00mold\u001b[38;5;132;01m!r}\u001b[39;00m\u001b[38;5;124m parameter of \u001b[39m\u001b[38;5;132;01m{\u001b[39;00mfunc\u001b[38;5;241m.\u001b[39m\u001b[38;5;18m__name__\u001b[39m\u001b[38;5;132;01m}\u001b[39;00m\u001b[38;5;124m() \u001b[39m\u001b[38;5;124m\"\u001b[39m\n\u001b[1;32m    294\u001b[0m         \u001b[38;5;124mf\u001b[39m\u001b[38;5;124m\"\u001b[39m\u001b[38;5;124mhas been renamed \u001b[39m\u001b[38;5;132;01m{\u001b[39;00mnew\u001b[38;5;132;01m!r}\u001b[39;00m\u001b[38;5;124m since Matplotlib \u001b[39m\u001b[38;5;132;01m{\u001b[39;00msince\u001b[38;5;132;01m}\u001b[39;00m\u001b[38;5;124m; support \u001b[39m\u001b[38;5;124m\"\u001b[39m\n\u001b[1;32m    295\u001b[0m         \u001b[38;5;124mf\u001b[39m\u001b[38;5;124m\"\u001b[39m\u001b[38;5;124mfor the old name will be dropped %(removal)s.\u001b[39m\u001b[38;5;124m\"\u001b[39m)\n\u001b[1;32m    296\u001b[0m     kwargs[new] \u001b[38;5;241m=\u001b[39m kwargs\u001b[38;5;241m.\u001b[39mpop(old)\n\u001b[0;32m--> 297\u001b[0m \u001b[38;5;28;01mreturn\u001b[39;00m \u001b[43mfunc\u001b[49m\u001b[43m(\u001b[49m\u001b[38;5;241;43m*\u001b[39;49m\u001b[43margs\u001b[49m\u001b[43m,\u001b[49m\u001b[43m \u001b[49m\u001b[38;5;241;43m*\u001b[39;49m\u001b[38;5;241;43m*\u001b[39;49m\u001b[43mkwargs\u001b[49m\u001b[43m)\u001b[49m\n",
      "File \u001b[0;32m/opt/homebrew/anaconda3/lib/python3.10/site-packages/matplotlib/axis.py:1969\u001b[0m, in \u001b[0;36mAxis.set_ticklabels\u001b[0;34m(self, labels, minor, fontdict, **kwargs)\u001b[0m\n\u001b[1;32m   1965\u001b[0m \u001b[38;5;28;01mif\u001b[39;00m \u001b[38;5;28misinstance\u001b[39m(locator, mticker\u001b[38;5;241m.\u001b[39mFixedLocator):\n\u001b[1;32m   1966\u001b[0m     \u001b[38;5;66;03m# Passing [] as a list of labels is often used as a way to\u001b[39;00m\n\u001b[1;32m   1967\u001b[0m     \u001b[38;5;66;03m# remove all tick labels, so only error for > 0 labels\u001b[39;00m\n\u001b[1;32m   1968\u001b[0m     \u001b[38;5;28;01mif\u001b[39;00m \u001b[38;5;28mlen\u001b[39m(locator\u001b[38;5;241m.\u001b[39mlocs) \u001b[38;5;241m!=\u001b[39m \u001b[38;5;28mlen\u001b[39m(labels) \u001b[38;5;129;01mand\u001b[39;00m \u001b[38;5;28mlen\u001b[39m(labels) \u001b[38;5;241m!=\u001b[39m \u001b[38;5;241m0\u001b[39m:\n\u001b[0;32m-> 1969\u001b[0m         \u001b[38;5;28;01mraise\u001b[39;00m \u001b[38;5;167;01mValueError\u001b[39;00m(\n\u001b[1;32m   1970\u001b[0m             \u001b[38;5;124m\"\u001b[39m\u001b[38;5;124mThe number of FixedLocator locations\u001b[39m\u001b[38;5;124m\"\u001b[39m\n\u001b[1;32m   1971\u001b[0m             \u001b[38;5;124mf\u001b[39m\u001b[38;5;124m\"\u001b[39m\u001b[38;5;124m (\u001b[39m\u001b[38;5;132;01m{\u001b[39;00m\u001b[38;5;28mlen\u001b[39m(locator\u001b[38;5;241m.\u001b[39mlocs)\u001b[38;5;132;01m}\u001b[39;00m\u001b[38;5;124m), usually from a call to\u001b[39m\u001b[38;5;124m\"\u001b[39m\n\u001b[1;32m   1972\u001b[0m             \u001b[38;5;124m\"\u001b[39m\u001b[38;5;124m set_ticks, does not match\u001b[39m\u001b[38;5;124m\"\u001b[39m\n\u001b[1;32m   1973\u001b[0m             \u001b[38;5;124mf\u001b[39m\u001b[38;5;124m\"\u001b[39m\u001b[38;5;124m the number of labels (\u001b[39m\u001b[38;5;132;01m{\u001b[39;00m\u001b[38;5;28mlen\u001b[39m(labels)\u001b[38;5;132;01m}\u001b[39;00m\u001b[38;5;124m).\u001b[39m\u001b[38;5;124m\"\u001b[39m)\n\u001b[1;32m   1974\u001b[0m     tickd \u001b[38;5;241m=\u001b[39m {loc: lab \u001b[38;5;28;01mfor\u001b[39;00m loc, lab \u001b[38;5;129;01min\u001b[39;00m \u001b[38;5;28mzip\u001b[39m(locator\u001b[38;5;241m.\u001b[39mlocs, labels)}\n\u001b[1;32m   1975\u001b[0m     func \u001b[38;5;241m=\u001b[39m functools\u001b[38;5;241m.\u001b[39mpartial(\u001b[38;5;28mself\u001b[39m\u001b[38;5;241m.\u001b[39m_format_with_dict, tickd)\n",
      "\u001b[0;31mValueError\u001b[0m: The number of FixedLocator locations (1), usually from a call to set_ticks, does not match the number of labels (3)."
     ]
    },
    {
     "data": {
      "image/png": "[encoded data removed]",
      "text/plain": [
       "<Figure size 640x480 with 1 Axes>"
      ]
     },
     "metadata": {},
     "output_type": "display_data"
    }
   ],
   "source": [
    "import numpy as np\n",
    "import matplotlib.pyplot as plt\n",
    "\n",
    "# Given array and row names\n",
    "data = np.array([0.5992867, 0.26702217, 0.13369113])\n",
    "row_names = ['name_1', 'name_2', 'name_3']\n",
    "\n",
    "# Create a figure and axis\n",
    "fig, ax = plt.subplots()\n",
    "\n",
    "# Plot the heatmap as a row with numbers displayed\n",
    "heatmap = ax.imshow(data.reshape(1,-1))\n",
    "\n",
    "# Customize the plot\n",
    "ax.set_title('Heatmap')\n",
    "ax.set_xlabel('Columns')\n",
    "ax.set_ylabel('Rows')\n",
    "ax.set_xticks(np.arange(len(data)))\n",
    "ax.set_xticklabels(np.arange(1, len(data) + 1))  # Column numbering starts from 1\n",
    "ax.set_yticks([])\n",
    "ax.grid(False)\n",
    "\n",
    "# Add numbers inside the heatmap cells\n",
    "for i in range(len(data)):\n",
    "    ax.text(i, 0, f'{data[i]:.2f}', va='center', ha='center', color='white')\n",
    "\n",
    "# Add row names\n",
    "ax.set_yticks([0])\n",
    "ax.set_yticklabels(row_names)\n",
    "\n",
    "# Add colorbar\n",
    "cbar = fig.colorbar(heatmap)\n",
    "\n",
    "# Show the plot\n",
    "plt.show()\n"
   ]
  },
  {
   "cell_type": "code",
   "execution_count": 101,
   "id": "460a598f-0591-45b8-b0f4-bc73debf9211",
   "metadata": {},
   "outputs": [
    {
     "data": {
      "image/png": "[encoded data removed]",
      "text/plain": [
       "<Figure size 640x480 with 2 Axes>"
      ]
     },
     "metadata": {},
     "output_type": "display_data"
    }
   ],
   "source": [
    "import numpy as np\n",
    "import matplotlib.pyplot as plt\n",
    "\n",
    "# Given array and row names\n",
    "data = np.array([0.5992867, 0.26702217, 0.13369113])\n",
    "row_names = ['Muscle_r', 'Bargain_r', 'Relationship_r']\n",
    "\n",
    "# Create a figure and axis\n",
    "fig, ax = plt.subplots()\n",
    "\n",
    "# Plot the heatmap as a row with numbers displayed\n",
    "heatmap = ax.imshow(data.reshape(1, -1))\n",
    "\n",
    "# Customize the plot\n",
    "ax.set_title('Explained Variance')\n",
    "ax.set_xlabel('Variables')\n",
    "#ax.set_ylabel('Rows')\n",
    "ax.set_xticks(np.arange(len(data)))\n",
    "ax.set_xticklabels(np.arange(1, len(data) + 1))  # Column numbering starts from 1\n",
    "\n",
    "# Set the number of locator locations to match the number of row names\n",
    "ax.set_xticks(np.arange(len(row_names)))\n",
    "ax.set_xticklabels(row_names)\n",
    "\n",
    "ax.grid(False)\n",
    "\n",
    "# Add numbers inside the heatmap cells\n",
    "for i in range(len(data)):\n",
    "    ax.text(i, 0, f'{data[i]:.2f}', va='center', ha='center', color='white')\n",
    "\n",
    "# Add colorbar\n",
    "cbar = fig.colorbar(heatmap)\n",
    "\n",
    "# Show the plot\n",
    "plt.show()\n"
   ]
  },
  {
   "cell_type": "code",
   "execution_count": null,
   "id": "4a3da682-b796-433c-bc6d-a6bb8d54d7df",
   "metadata": {},
   "outputs": [],
   "source": []
  }
 ],
 "metadata": {
  "kernelspec": {
   "display_name": "Python 3 (ipykernel)",
   "language": "python",
   "name": "python3"
  },
  "language_info": {
   "codemirror_mode": {
    "name": "ipython",
    "version": 3
   },
   "file_extension": ".py",
   "mimetype": "text/x-python",
   "name": "python",
   "nbconvert_exporter": "python",
   "pygments_lexer": "ipython3",
   "version": "3.10.11"
  }
 },
 "nbformat": 4,
 "nbformat_minor": 5
}
